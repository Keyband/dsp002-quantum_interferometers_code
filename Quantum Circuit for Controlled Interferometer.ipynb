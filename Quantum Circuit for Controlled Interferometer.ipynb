{
 "cells": [
  {
   "cell_type": "markdown",
   "metadata": {},
   "source": [
    "# Quantum Algorithm for a Controlled Interferometer\n",
    " In this notebook, the [QISKit](https://github.com/QISKit) is used to simulate a Mach-Zehnder Interferometer, with the   results being plotted using Matplotlib.\n",
    " Notice that the variables names and comments are in english, but the graphs label are in portuguese."
   ]
  },
  {
   "cell_type": "code",
   "execution_count": null,
   "metadata": {},
   "outputs": [],
   "source": [
    "###Imports\n",
    "#QISKit for the simulation\n",
    "from qiskit import QuantumCircuit, ClassicalRegister, QuantumRegister\n",
    "from qiskit import execute, register\n",
    "#Numpy for Linear Algebra\n",
    "import numpy as np\n",
    "#Pandas for dataframes\n",
    "import pandas as pd\n",
    "#Matplotlib for plotting and graphs\n",
    "import matplotlib.pyplot as plt\n",
    "#Basic Units for enabling the use of radians in the plot axis\n",
    "import basic_units as bau\n",
    "#Enabling the plots appearing inside the notebook\n",
    "%matplotlib inline"
   ]
  },
  {
   "cell_type": "code",
   "execution_count": null,
   "metadata": {},
   "outputs": [],
   "source": [
    "#Defining a function for running the experiments, given a quantum circuit object,\n",
    "#a float for alpha, an array with phases, and the number of tests.\n",
    "#This function returns a dataframe with the results of the tests.\n",
    "def run_experiments(qc, alpha = 0, phases = [0, np.pi, 2*np.pi], number_of_tests = 1000):\n",
    "    _df = pd.DataFrame(0, index = phases, columns=['00', '01', '10', '11'])\n",
    "    \n",
    "    for phase in phases:\n",
    "        qc.reset(q)\n",
    "        qc.h(q[0]); qc.h(q[1])\n",
    "\n",
    "        qc.u1(alpha, q[0]); qc.u1(phase, q[1])\n",
    "        \n",
    "        qc.h(q[0]); qc.ch(q[0],q[1])\n",
    "\n",
    "        qc.measure(q, c)\n",
    "        job_sim = execute(qc, \"local_qasm_simulator\", shots = number_of_tests)\n",
    "        sim_result = job_sim.result()\n",
    "\n",
    "        if '00' in sim_result.get_counts(qc): _df.loc[phase, '00'] = sim_result.get_counts(qc)['00']\n",
    "        if '01' in sim_result.get_counts(qc): _df.loc[phase, '01'] = sim_result.get_counts(qc)['01'] \n",
    "        if '10' in sim_result.get_counts(qc): _df.loc[phase, '10'] = sim_result.get_counts(qc)['10']         \n",
    "        if '11' in sim_result.get_counts(qc): _df.loc[phase, '11'] = sim_result.get_counts(qc)['11']\n",
    "    \n",
    "    \n",
    "    return _df/number_of_tests\n",
    "\n",
    "#Defining a routine that runs the experiments (using the run_experiments function) and then makes a plot.\n",
    "def run_experiments_and_plot(qc, alpha = 0, phases = [0, np.pi, 2*np.pi], number_of_tests = 1000):\n",
    "    _df = run_experiments(qc, alpha, phases, number_of_tests)\n",
    "    \n",
    "    plt.figure()\n",
    "    point_size = 10\n",
    "    ax = _df['00'].plot(style = 'o', legend=True, figsize = (10,5), ms = point_size, label = r'$|00 \\rangle$')\n",
    "    _df['01'].plot(style = 'x', legend=True, ms = point_size, label = r'$|01 \\rangle$')\n",
    "    _df['10'].plot(style = '+', legend=True, ms = point_size, label = r'$|10 \\rangle$')\n",
    "    _df['11'].plot(style = '*', legend=True, ms = point_size, label = r'$|11 \\rangle$')\n",
    "\n",
    "    x = [1*bau.radians]\n",
    "    ax.plot(x, 0, xunits=bau.radians)\n",
    "\n",
    "    plt.title('Resultados para o interferômetro controlado (' + str(number_of_tests) + ' experimentos por fase, ' + r'$\\alpha = %.2f \\pi)$' %(alpha/np.pi))\n",
    "    plt.xlabel('Fase aplicada')\n",
    "    plt.ylabel('Frequência do resultado')\n",
    "    plt.grid()\n",
    "\n",
    "    plt.legend(loc='center left', bbox_to_anchor=(1.0, 0.5))"
   ]
  },
  {
   "cell_type": "code",
   "execution_count": null,
   "metadata": {},
   "outputs": [],
   "source": [
    "#Creating a quantum circuit with two qubits\n",
    "q = QuantumRegister(2)\n",
    "c = ClassicalRegister(2)\n",
    "qc = QuantumCircuit(q, c)\n",
    "\n",
    "#Creating a array of values for the phase shift of the qubit\n",
    "phases = list(np.linspace(0, 1, 40) * 4*np.pi)\n",
    "#Creating a array for storing the values for alpha\n",
    "values_for_alpha = list(np.linspace(0, 1, 5) * 2*np.pi)\n",
    "#Creating a variable for holding the number of simulations to be made\n",
    "number_of_tests = 500\n",
    "\n",
    "#Notice that the bigger the alpha array, phases array, and the number of tests are,\n",
    "#the longer it will take for the code to finish."
   ]
  },
  {
   "cell_type": "code",
   "execution_count": null,
   "metadata": {},
   "outputs": [],
   "source": [
    "#Iterate over each alpha value, making experiments and plotting the results\n",
    "for a in values_for_alpha: run_experiments_and_plot(qc, a, phases, number_of_tests)"
   ]
  },
  {
   "cell_type": "code",
   "execution_count": null,
   "metadata": {},
   "outputs": [],
   "source": []
  }
 ],
 "metadata": {
  "kernelspec": {
   "display_name": "Python 3",
   "language": "python",
   "name": "python3"
  },
  "language_info": {
   "codemirror_mode": {
    "name": "ipython",
    "version": 3
   },
   "file_extension": ".py",
   "mimetype": "text/x-python",
   "name": "python",
   "nbconvert_exporter": "python",
   "pygments_lexer": "ipython3",
   "version": "3.6.5"
  }
 },
 "nbformat": 4,
 "nbformat_minor": 2
}
