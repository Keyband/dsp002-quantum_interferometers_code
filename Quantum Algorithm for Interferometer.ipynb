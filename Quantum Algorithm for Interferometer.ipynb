{
 "cells": [
  {
   "cell_type": "markdown",
   "metadata": {},
   "source": [
    "# Quantum Algorithm for an Interferometer\n",
    " In this notebook, the [QISKit](https://github.com/QISKit) is used to simulate a Mach-Zehnder Interferometer, with the   results being plotted using Matplotlib.\n",
    " Notice that the variables names and comments are in english, but the graphs label are in portuguese."
   ]
  },
  {
   "cell_type": "code",
   "execution_count": null,
   "metadata": {},
   "outputs": [],
   "source": [
    "###Imports\n",
    "#QISKit for the simulation\n",
    "from qiskit import QuantumCircuit, ClassicalRegister, QuantumRegister\n",
    "from qiskit import execute, register\n",
    "#Numpy for Linear Algebra\n",
    "import numpy as np\n",
    "#Pandas for dataframes\n",
    "import pandas as pd\n",
    "#Matplotlib for plotting and graphs\n",
    "import matplotlib.pyplot as plt\n",
    "#Basic Units for enabling the use of radians in the plot axis\n",
    "import basic_units as bau\n",
    "#Enabling the plots appearing inside the notebook\n",
    "%matplotlib inline"
   ]
  },
  {
   "cell_type": "code",
   "execution_count": null,
   "metadata": {},
   "outputs": [],
   "source": [
    "#Creating a quantum circuit with a single qubit\n",
    "q = QuantumRegister(1)\n",
    "c = ClassicalRegister(1)\n",
    "qc = QuantumCircuit(q, c)\n",
    "\n",
    "#Creating a array of values for the phase shift of the qubit\n",
    "phases = list(np.linspace(0, 1, 40) * 4*np.pi)\n",
    "\n",
    "#Creating a dataframe where the indexes are the phase values, and the columns \n",
    "#correspond to the frequency of the result obtained after the measurement.\n",
    "df = pd.DataFrame(0, index = phases, columns=['0', '1'])"
   ]
  },
  {
   "cell_type": "code",
   "execution_count": null,
   "metadata": {},
   "outputs": [],
   "source": [
    "#Iterate over the phases\n",
    "for phase in phases:\n",
    "    #Reset the quantum circuit,\n",
    "    #i.e. make the qubit go back to the |0> state\n",
    "    qc.reset(q)\n",
    "    #Simulating an interferometer effect\n",
    "    qc.h(q[0])\n",
    "    qc.u1(phase, q[0])\n",
    "    qc.h(q[0])\n",
    "    \n",
    "    #Measuring the qubit, and repeating the simulation 8000 times\n",
    "    qc.measure(q, c)\n",
    "    job_sim = execute(qc, \"local_qasm_simulator\", shots = 8000)\n",
    "    sim_result = job_sim.result()\n",
    "    \n",
    "    #Update the frequency values for each result\n",
    "    if '0' in sim_result.get_counts(qc): df.loc[phase, '0'] = sim_result.get_counts(qc)['0']\n",
    "    if '1' in sim_result.get_counts(qc): df.loc[phase, '1'] = sim_result.get_counts(qc)['1'] \n",
    "\n",
    "#Normalizing the frequencies\n",
    "df = df/8000"
   ]
  },
  {
   "cell_type": "code",
   "execution_count": null,
   "metadata": {},
   "outputs": [],
   "source": [
    "#Plotting the column for |0>, and creating an axes object\n",
    "ax = df['0'].plot(style = 'o', legend=True, figsize = (10,5), label = r'$|0 \\rangle$')\n",
    "#Plotting the column for |0>\n",
    "df['1'].plot(style = 'x', legend=True, label = r'$|1 \\rangle$')\n",
    "\n",
    "#Updating the units of x axis to radians\n",
    "x = [1*bau.radians]\n",
    "ax.plot(x, 0, xunits=bau.radians)\n",
    "\n",
    "#Setting up labels and legends\n",
    "plt.title('Resultados para o interferômetro (8000 experimentos por valor de fase)')\n",
    "plt.xlabel('Fase aplicada')\n",
    "plt.ylabel('Frequência do resultado')\n",
    "#Enabling the grid\n",
    "plt.grid()\n",
    "\n",
    "#Positioning the legend box outside the plot's frame\n",
    "plt.legend(loc='center left', bbox_to_anchor=(1.0, 0.5))\n"
   ]
  },
  {
   "cell_type": "code",
   "execution_count": null,
   "metadata": {},
   "outputs": [],
   "source": []
  }
 ],
 "metadata": {
  "kernelspec": {
   "display_name": "Python 3",
   "language": "python",
   "name": "python3"
  },
  "language_info": {
   "codemirror_mode": {
    "name": "ipython",
    "version": 3
   },
   "file_extension": ".py",
   "mimetype": "text/x-python",
   "name": "python",
   "nbconvert_exporter": "python",
   "pygments_lexer": "ipython3",
   "version": "3.6.5"
  }
 },
 "nbformat": 4,
 "nbformat_minor": 2
}
